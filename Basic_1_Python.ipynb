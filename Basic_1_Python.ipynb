{
  "nbformat": 4,
  "nbformat_minor": 0,
  "metadata": {
    "colab": {
      "provenance": [],
      "authorship_tag": "ABX9TyM7d/o2NvA4sjn8b7nSCe3b",
      "include_colab_link": true
    },
    "kernelspec": {
      "name": "python3",
      "display_name": "Python 3"
    },
    "language_info": {
      "name": "python"
    }
  },
  "cells": [
    {
      "cell_type": "markdown",
      "metadata": {
        "id": "view-in-github",
        "colab_type": "text"
      },
      "source": [
        "<a href=\"https://colab.research.google.com/github/OnkarHarde/OOPS-concpt-E-commarce/blob/main/Basic_1_Python.ipynb\" target=\"_parent\"><img src=\"https://colab.research.google.com/assets/colab-badge.svg\" alt=\"Open In Colab\"/></a>"
      ]
    },
    {
      "cell_type": "markdown",
      "source": [
        "##Program 1\n",
        "\n",
        " Write a Python program to print \"Hello Python\"."
      ],
      "metadata": {
        "id": "QvqFM4n47J2I"
      }
    },
    {
      "cell_type": "code",
      "execution_count": null,
      "metadata": {
        "colab": {
          "base_uri": "https://localhost:8080/"
        },
        "id": "Dxlmx_cI67__",
        "outputId": "5997566c-645c-4148-b804-024c1daf8522"
      },
      "outputs": [
        {
          "output_type": "stream",
          "name": "stdout",
          "text": [
            "Hello Python\n"
          ]
        }
      ],
      "source": [
        "print(\"Hello Python\")"
      ]
    },
    {
      "cell_type": "markdown",
      "source": [
        "##Program 2\n",
        " Write a Python program to do arithmetical operations addition and division"
      ],
      "metadata": {
        "id": "hgS4w5SJ763R"
      }
    },
    {
      "cell_type": "code",
      "source": [
        "num1 = float(input(\"Enter the first number for addition: \"))\n",
        "num2 = float(input(\"Enter the second number for addition: \"))\n",
        "sum_result = num1 + num2\n",
        "print(f\"sum: {num1} + {num2} = {sum_result}\")"
      ],
      "metadata": {
        "colab": {
          "base_uri": "https://localhost:8080/"
        },
        "id": "KSYHgIpE72ic",
        "outputId": "c147dd38-4efc-4b81-b4f4-9901ac245350"
      },
      "execution_count": null,
      "outputs": [
        {
          "output_type": "stream",
          "name": "stdout",
          "text": [
            "Enter the first number for addition: 1\n",
            "Enter the second number for addition: 3\n",
            "sum: 1.0 + 3.0 = 4.0\n"
          ]
        }
      ]
    },
    {
      "cell_type": "code",
      "source": [
        "num3 = float(input(\"Enter the dividend for division: \"))\n",
        "num4 = float(input(\"Enter the divisor for division: \"))\n",
        "if num4 == 0:\n",
        "  print(\"Error: Division by zero is not allowed.\")\n",
        "else:\n",
        "  div_result = num3 / num4\n",
        "  print(f\"Division: {num3} / {num4} = {div_result}\")"
      ],
      "metadata": {
        "colab": {
          "base_uri": "https://localhost:8080/"
        },
        "id": "jO-3_aKU8KYK",
        "outputId": "780102db-57bf-483f-dd6b-00bfb2ac92ae"
      },
      "execution_count": null,
      "outputs": [
        {
          "output_type": "stream",
          "name": "stdout",
          "text": [
            "Enter the dividend for division: 1\n",
            "Enter the divisor for division: 3\n",
            "Division: 1.0 / 3.0 = 0.3333333333333333\n"
          ]
        }
      ]
    },
    {
      "cell_type": "markdown",
      "source": [
        "##Program 3\n",
        " Write a Python program to find the area of a triangle."
      ],
      "metadata": {
        "id": "jbw6VYWK8vIt"
      }
    },
    {
      "cell_type": "code",
      "source": [
        "base = float(input(\"Enter the length of the base of the triangle: \"))\n",
        "height = float(input(\"Enter the height of the triangle: \"))\n",
        "area = 0.5 * base * height\n",
        "print(f\"The area of the triangle is: {area}\")"
      ],
      "metadata": {
        "colab": {
          "base_uri": "https://localhost:8080/"
        },
        "id": "T30rB0XC8xSy",
        "outputId": "9a724f82-5b86-430b-b5c2-71e814131682"
      },
      "execution_count": null,
      "outputs": [
        {
          "output_type": "stream",
          "name": "stdout",
          "text": [
            "Enter the length of the base of the triangle: 3\n",
            "Enter the height of the triangle: 4\n",
            "The area of the triangle is: 6.0\n"
          ]
        }
      ]
    },
    {
      "cell_type": "markdown",
      "source": [
        "##Program 4\n",
        "\n",
        " Write a Python program to swap two variables."
      ],
      "metadata": {
        "id": "SSTnWIlo9EW7"
      }
    },
    {
      "cell_type": "code",
      "source": [
        "a = input(\"Enter the value of the first variable (a): \")\n",
        "b = input(\"Enter the value of the second variable (b): \")\n",
        "print(f\"Original values: a = {a}, b = {b}\")\n",
        "temp = a\n",
        "a = b\n",
        "b = temp\n",
        "print(f\"Swapped values: a = {a}, b = {b}\")"
      ],
      "metadata": {
        "colab": {
          "base_uri": "https://localhost:8080/"
        },
        "id": "RN9milQG9Hx1",
        "outputId": "4d72b308-1ac1-4090-d60a-1add958e234f"
      },
      "execution_count": null,
      "outputs": [
        {
          "output_type": "stream",
          "name": "stdout",
          "text": [
            "Enter the value of the first variable (a): 10\n",
            "Enter the value of the second variable (b): 20\n",
            "Original values: a = 10, b = 20\n",
            "Swapped values: a = 20, b = 10\n"
          ]
        }
      ]
    },
    {
      "cell_type": "markdown",
      "source": [
        "##Program 5\n",
        " Write a Python program to generate a random number."
      ],
      "metadata": {
        "id": "L9tpfgyn9qmD"
      }
    },
    {
      "cell_type": "code",
      "source": [
        "import random\n",
        "print(f\"Random number: {random.randint(1, 100)}\")"
      ],
      "metadata": {
        "colab": {
          "base_uri": "https://localhost:8080/"
        },
        "id": "dYHpatyX9sz_",
        "outputId": "30ceb2a1-cc4c-487d-b8a7-9b845547222e"
      },
      "execution_count": null,
      "outputs": [
        {
          "output_type": "stream",
          "name": "stdout",
          "text": [
            "Random number: 67\n"
          ]
        }
      ]
    },
    {
      "cell_type": "markdown",
      "source": [
        "##Program 6\n",
        " Write a Python program to convert kilometers to miles."
      ],
      "metadata": {
        "id": "3ncO8hkS95ZT"
      }
    },
    {
      "cell_type": "code",
      "source": [
        "kilometers = float(input(\"Enter distance in kilometers: \"))\n",
        "conversion_factor = 0.621371\n",
        "miles = kilometers * conversion_factor\n",
        "print(f\"{kilometers} kilometers is equal to {miles} miles\")"
      ],
      "metadata": {
        "id": "go14q_-299mp"
      },
      "execution_count": null,
      "outputs": []
    },
    {
      "cell_type": "markdown",
      "source": [
        "##Program 7\n",
        " Write a Python program to convert Celsius to Fahrenheit."
      ],
      "metadata": {
        "id": "B1jFX7-C-Gh0"
      }
    },
    {
      "cell_type": "code",
      "source": [
        "celsius = float(input(\"Enter temperature in Celsius: \"))\n",
        "fahrenheit = (celsius * 9/5) + 32\n",
        "print(f\"{celsius} degrees Celsius is equal to {fahrenheit} degrees Fahrenit\")"
      ],
      "metadata": {
        "colab": {
          "base_uri": "https://localhost:8080/"
        },
        "id": "qsS7HXtd-LzU",
        "outputId": "a3773362-7f33-449a-cd17-b6a0cebea247"
      },
      "execution_count": null,
      "outputs": [
        {
          "output_type": "stream",
          "name": "stdout",
          "text": [
            "Enter temperature in Celsius: 34\n",
            "34.0 degrees Celsius is equal to 93.2 degrees Fahrenit\n"
          ]
        }
      ]
    },
    {
      "cell_type": "markdown",
      "source": [
        "##Program 8\n",
        " Write a Python program to display calendar."
      ],
      "metadata": {
        "id": "9AokJs4v-gPC"
      }
    },
    {
      "cell_type": "code",
      "source": [
        "import calendar\n",
        "year = int(input(\"Enter year: \"))\n",
        "month = int(input(\"Enter month: \"))\n",
        "cal = calendar.month(year, month)\n",
        "print(cal)"
      ],
      "metadata": {
        "colab": {
          "base_uri": "https://localhost:8080/"
        },
        "id": "LfPdxB5P-icD",
        "outputId": "c123f0d1-06ec-4b5c-f997-a6c28047d30d"
      },
      "execution_count": null,
      "outputs": [
        {
          "output_type": "stream",
          "name": "stdout",
          "text": [
            "Enter year: 2004\n",
            "Enter month: 8\n",
            "    August 2004\n",
            "Mo Tu We Th Fr Sa Su\n",
            "                   1\n",
            " 2  3  4  5  6  7  8\n",
            " 9 10 11 12 13 14 15\n",
            "16 17 18 19 20 21 22\n",
            "23 24 25 26 27 28 29\n",
            "30 31\n",
            "\n"
          ]
        }
      ]
    },
    {
      "cell_type": "markdown",
      "source": [
        "##Program 9\n",
        "Write a Python program to solve quadratic equation.\n"
      ],
      "metadata": {
        "id": "FY1FsFqJTMMj"
      }
    },
    {
      "cell_type": "code",
      "source": [
        "import math\n",
        "\n",
        "a = float(input(\"Enter coefficient a: \"))\n",
        "b = float(input(\"Enter coefficient b: \"))\n",
        "c = float(input(\"Enter coefficient c: \"))\n",
        "\n",
        "discriminant = b**2 - 4*a*c\n",
        "\n",
        "if discriminant > 0:\n",
        "\n",
        " root1 = (-b + math.sqrt(discriminant)) / (2*a)\n",
        " root2 = (-b - math.sqrt(discriminant)) / (2*a)\n",
        " print(f\"Root 1: {root1}\")\n",
        " print(f\"Root 2: {root2}\")\n",
        "elif discriminant == 0:\n",
        "\n",
        " root = -b / (2*a)\n",
        " print(f\"Root: {root}\")\n",
        "else:\n",
        "\n",
        " real_part = -b / (2*a)\n",
        " imaginary_part = math.sqrt(abs(discriminant)) / (2*a)\n",
        " print(f\"Root 1: {real_part} + {imaginary_part}i\")\n",
        " print(f\"Root 2: {real_part} - {imaginary_part}i\")"
      ],
      "metadata": {
        "colab": {
          "base_uri": "https://localhost:8080/"
        },
        "id": "mpx4GvWETkuV",
        "outputId": "f0448f54-ebd9-4c17-c43d-2d35b145f105"
      },
      "execution_count": null,
      "outputs": [
        {
          "output_type": "stream",
          "name": "stdout",
          "text": [
            "Enter coefficient a: 1\n",
            "Enter coefficient b: 4\n",
            "Enter coefficient c: 8\n",
            "Root 1: -2.0 + 2.0i\n",
            "Root 2: -2.0 - 2.0i\n"
          ]
        }
      ]
    },
    {
      "cell_type": "markdown",
      "source": [
        "##Program 10\n",
        "Write a Python program to swap two variables without temp variable.\n"
      ],
      "metadata": {
        "id": "fjbaOlz6T7Qn"
      }
    },
    {
      "cell_type": "code",
      "source": [
        "a = 5\n",
        "b = 10\n",
        "\n",
        "a, b = b, a\n",
        "print(\"After swapping:\")\n",
        "print(\"a =\", a)\n",
        "print(\"b =\", b)"
      ],
      "metadata": {
        "colab": {
          "base_uri": "https://localhost:8080/"
        },
        "id": "LvSsijNDT8Wn",
        "outputId": "b6ad30f4-76a1-4b62-a3bf-a4387200f5b7"
      },
      "execution_count": null,
      "outputs": [
        {
          "output_type": "stream",
          "name": "stdout",
          "text": [
            "After swapping:\n",
            "a = 10\n",
            "b = 5\n"
          ]
        }
      ]
    },
    {
      "cell_type": "markdown",
      "source": [
        "\n",
        "\n",
        "\n",
        "\n",
        "\n",
        "##Program 11\n",
        "Write a Python Program to Check if a Number is Positive, Negative or Zero."
      ],
      "metadata": {
        "id": "mcTIiKeFUCjP"
      }
    },
    {
      "cell_type": "code",
      "source": [
        "num = float(input(\"Enter a number: \"))\n",
        "if num > 0:\n",
        " print(\"Positive number\")\n",
        "elif num == 0:\n",
        " print(\"Zero\")\n",
        "else:\n",
        " print(\"Negative number\")"
      ],
      "metadata": {
        "colab": {
          "base_uri": "https://localhost:8080/"
        },
        "id": "itk8_G0lUBpR",
        "outputId": "14b7d905-770f-4eb6-d4b5-345b9eb61e2f"
      },
      "execution_count": null,
      "outputs": [
        {
          "output_type": "stream",
          "name": "stdout",
          "text": [
            "Enter a number: 6.4\n",
            "Positive number\n"
          ]
        }
      ]
    },
    {
      "cell_type": "markdown",
      "source": [
        "##Program 12\n",
        "Write a Python Program to Check if a Number is Odd or Even.\n"
      ],
      "metadata": {
        "id": "WJauubnUUPuA"
      }
    },
    {
      "cell_type": "code",
      "source": [
        "num = int(input(\"Enter a number: \"))\n",
        "if num%2 == 0:\n",
        " print(\"This is a even number\")\n",
        "else:\n",
        " print(\"This is a odd number\")"
      ],
      "metadata": {
        "colab": {
          "base_uri": "https://localhost:8080/"
        },
        "id": "z7YYm74EUH7U",
        "outputId": "c8ef2939-6cd9-42c9-84cd-374e53b65687"
      },
      "execution_count": null,
      "outputs": [
        {
          "output_type": "stream",
          "name": "stdout",
          "text": [
            "Enter a number: 3\n",
            "This is a odd number\n"
          ]
        }
      ]
    },
    {
      "cell_type": "markdown",
      "source": [
        "##Program 13\n",
        "Write a Python Program to Check Leap Year."
      ],
      "metadata": {
        "id": "QZC_wMM-UZYi"
      }
    },
    {
      "cell_type": "code",
      "source": [
        "year = int(input(\"Enter a year: \"))\n",
        "\n",
        "if (year % 400 == 0) and (year % 100 == 0):\n",
        " print(\"{0} is a leap year\".format(year))\n",
        "\n",
        "elif (year % 4 ==0) and (year % 100 != 0):\n",
        " print(\"{0} is a leap year\".format(year))\n",
        "\n",
        "else:\n",
        " print(\"{0} is not a leap year\".format(year))\n"
      ],
      "metadata": {
        "colab": {
          "base_uri": "https://localhost:8080/"
        },
        "id": "GvdiJEdgUSvA",
        "outputId": "5285f355-f79e-4ef7-c512-cdd0ba3ee2b0"
      },
      "execution_count": null,
      "outputs": [
        {
          "output_type": "stream",
          "name": "stdout",
          "text": [
            "Enter a year: 2024\n",
            "2024 is a leap year\n"
          ]
        }
      ]
    },
    {
      "cell_type": "markdown",
      "source": [
        "##Program 14\n",
        "Write a Python Program to Check Prime Number.\n"
      ],
      "metadata": {
        "id": "pOWfJ0VKUm_T"
      }
    },
    {
      "cell_type": "code",
      "source": [
        "num = int(input(\"Enter a number: \"))\n",
        "\n",
        "flag = False\n",
        "if num == 1:\n",
        " print(f\"{num}, is not a prime number\")\n",
        "elif num > 1:\n",
        " for i in range(2, num):\n",
        "  if (num % i) == 0:\n",
        "    flag = True\n",
        "\n",
        "    break\n",
        "\n",
        "if flag:\n",
        " print(f\"{num}, is not a prime number\")\n",
        "else:\n",
        " print(f\"{num}, is a prime number\")"
      ],
      "metadata": {
        "colab": {
          "base_uri": "https://localhost:8080/"
        },
        "id": "_0hxhk42UigK",
        "outputId": "5f5ad57a-f167-4a9b-c172-4e0e8ccfcb5d"
      },
      "execution_count": null,
      "outputs": [
        {
          "output_type": "stream",
          "name": "stdout",
          "text": [
            "Enter a number: 27\n",
            "27, is not a prime number\n"
          ]
        }
      ]
    },
    {
      "cell_type": "markdown",
      "source": [
        "##Program 15\n",
        "Write a Python Program to Print all Prime Numbers in an Interval of 1-10.\n"
      ],
      "metadata": {
        "id": "lZ0p1AjAVI8-"
      }
    },
    {
      "cell_type": "code",
      "source": [
        "lower = 1\n",
        "upper = 10\n",
        "\n",
        "print(\"Prime numbers between\", lower, \"and\", upper, \"are:\")\n",
        "\n",
        "for num in range(lower, upper + 1):\n",
        "    if num > 1:\n",
        "        for i in range(2, num):\n",
        "            if (num % i) == 0:\n",
        "                break\n",
        "        else:\n",
        "            print(num)\n"
      ],
      "metadata": {
        "id": "j4uwYvvzVYP3",
        "colab": {
          "base_uri": "https://localhost:8080/"
        },
        "outputId": "1f1ecd49-1c1b-4c9a-ac2c-a9d4fe12fa82"
      },
      "execution_count": null,
      "outputs": [
        {
          "output_type": "stream",
          "name": "stdout",
          "text": [
            "Prime numbers between 1 and 10 are:\n",
            "2\n",
            "3\n",
            "5\n",
            "7\n"
          ]
        }
      ]
    },
    {
      "cell_type": "markdown",
      "source": [
        "##Program 16\n",
        "Write a Python Program to Find the Factorial of a Number."
      ],
      "metadata": {
        "id": "FVB6UAmzTEqK"
      }
    },
    {
      "cell_type": "code",
      "source": [
        "num = int(input(\"Enter a number: \"))\n",
        "factorial = 1\n",
        "if num <0:\n",
        " print(\"Factirial does not exist for negative numbers\")\n",
        "elif num == 0:\n",
        " print(\"Factorial of 0 is 1\")\n",
        "else:\n",
        " for i in range(1, num+1):\n",
        "  factorial = factorial*i\n",
        "print(f'The factorial of {num} is {factorial}')"
      ],
      "metadata": {
        "id": "6v9pSrEfW8N_",
        "colab": {
          "base_uri": "https://localhost:8080/"
        },
        "outputId": "1f248600-1b97-4378-b07e-f132ef6725bd"
      },
      "execution_count": 2,
      "outputs": [
        {
          "output_type": "stream",
          "name": "stdout",
          "text": [
            "Enter a number: 4\n",
            "The factorial of 4 is 24\n"
          ]
        }
      ]
    },
    {
      "cell_type": "markdown",
      "source": [
        "##Program 17\n",
        "Write a Python Program to Display the multiplication Table.\n",
        "\n"
      ],
      "metadata": {
        "id": "CAX__6i7ToCl"
      }
    },
    {
      "cell_type": "code",
      "source": [
        "num = int(input(\"Display multiplication table of: \"))\n",
        "for i in range(1, 11):\n",
        " print(f\"{num} X {i} = {num*i}\")\n",
        ""
      ],
      "metadata": {
        "colab": {
          "base_uri": "https://localhost:8080/"
        },
        "id": "IF0wnGw6TdOq",
        "outputId": "ce3f7518-1b04-4244-80a0-45832e48e72e"
      },
      "execution_count": 3,
      "outputs": [
        {
          "output_type": "stream",
          "name": "stdout",
          "text": [
            "Display multiplication table of: 2\n",
            "2 X 1 = 2\n",
            "2 X 2 = 4\n",
            "2 X 3 = 6\n",
            "2 X 4 = 8\n",
            "2 X 5 = 10\n",
            "2 X 6 = 12\n",
            "2 X 7 = 14\n",
            "2 X 8 = 16\n",
            "2 X 9 = 18\n",
            "2 X 10 = 20\n"
          ]
        }
      ]
    },
    {
      "cell_type": "markdown",
      "source": [
        "##Program 18\n",
        "Write a Python Program to Print the Fibonacci sequence.\n",
        "\n"
      ],
      "metadata": {
        "id": "adE8QHuZT29m"
      }
    },
    {
      "cell_type": "code",
      "source": [
        "nterms = int(input(\"How many terms? \"))\n",
        "\n",
        "n1, n2 = 0, 1\n",
        "count = 0\n",
        "\n",
        "if nterms <= 0:\n",
        " print(\"Please enter a positive integer\")\n",
        "\n",
        "elif nterms == 1:\n",
        " print(\"Fibonacci sequence upto\",nterms,\":\")\n",
        " print(n1)\n",
        "\n",
        "else:\n",
        " print(\"Fibonacci sequence:\")\n",
        " while count < nterms:\n",
        "  print(n1)\n",
        "  nth = n1 + n2\n",
        "  n1 = n2\n",
        "  n2 = nth\n",
        "  count += 1"
      ],
      "metadata": {
        "id": "0KqQr8e0TxT-",
        "colab": {
          "base_uri": "https://localhost:8080/"
        },
        "outputId": "f7056a85-571c-486b-c2c1-49e2f5924d94"
      },
      "execution_count": 4,
      "outputs": [
        {
          "output_type": "stream",
          "name": "stdout",
          "text": [
            "How many terms? 5\n",
            "Fibonacci sequence:\n",
            "0\n",
            "1\n",
            "1\n",
            "2\n",
            "3\n"
          ]
        }
      ]
    },
    {
      "cell_type": "markdown",
      "source": [
        "##Program 19\n",
        "Write a Python Program to Check Armstrong Number?"
      ],
      "metadata": {
        "id": "U1k8e2kUUoXD"
      }
    },
    {
      "cell_type": "code",
      "source": [
        "num = int(input(\"Enter a number: \"))\n",
        "\n",
        "num_str = str(num)\n",
        "num_digits = len(num_str)\n",
        "\n",
        "sum_of_powers = 0\n",
        "temp_num = num\n",
        "while temp_num > 0:\n",
        " digit = temp_num % 10\n",
        " sum_of_powers += digit ** num_digits\n",
        " temp_num //= 10\n",
        "\n",
        "if sum_of_powers == num:\n",
        " print(f\"{num} is an Armstrong number.\")\n",
        "else:\n",
        " print(f\"{num} is not an Armstrong number.\")"
      ],
      "metadata": {
        "colab": {
          "base_uri": "https://localhost:8080/"
        },
        "id": "wo5yvDLnUT8V",
        "outputId": "46a2a959-7024-4a97-acdc-7ab3fb201741"
      },
      "execution_count": 7,
      "outputs": [
        {
          "output_type": "stream",
          "name": "stdout",
          "text": [
            "Enter a number: 9474\n",
            "9474 is an Armstrong number.\n"
          ]
        }
      ]
    },
    {
      "cell_type": "markdown",
      "source": [
        "##Program 20\n",
        "Write a Python Program to Find Armstrong Number in an Interval"
      ],
      "metadata": {
        "id": "YbPrxjDcVPZP"
      }
    },
    {
      "cell_type": "code",
      "source": [
        "lower = int(input(\"Enter the lower limit of the interval: \"))\n",
        "upper = int(input(\"Enter the upper limit of the interval: \"))\n",
        "for num in range(lower, upper + 1):\n",
        " order = len(str(num))\n",
        " temp_num = num\n",
        " sum = 0\n",
        " while temp_num > 0:\n",
        "  digit = temp_num % 10\n",
        "  sum += digit ** order\n",
        "  temp_num //= 10\n",
        "\n",
        " if num == sum:\n",
        "  print(num)\n"
      ],
      "metadata": {
        "colab": {
          "base_uri": "https://localhost:8080/"
        },
        "id": "yVbJhMx4VOU_",
        "outputId": "757a4fc3-9ce7-4197-bbbd-070619ffb58c"
      },
      "execution_count": 8,
      "outputs": [
        {
          "output_type": "stream",
          "name": "stdout",
          "text": [
            "Enter the lower limit of the interval: 10\n",
            "Enter the upper limit of the interval: 1000\n",
            "153\n",
            "370\n",
            "371\n",
            "407\n"
          ]
        }
      ]
    },
    {
      "cell_type": "markdown",
      "source": [
        "##Program 21\n",
        "Write a Python Program to Find the Sum of Natural Numbers.\n"
      ],
      "metadata": {
        "id": "keL1JUAoVqmq"
      }
    },
    {
      "cell_type": "code",
      "source": [
        "limit = int(input(\"Enter the limit: \"))\n",
        "\n",
        "sum = 0\n",
        "\n",
        "for i in range(1, limit + 1):\n",
        " sum += i\n",
        "\n",
        "print(\"The sum of natural numbers up to\", limit, \"is:\", sum)"
      ],
      "metadata": {
        "colab": {
          "base_uri": "https://localhost:8080/"
        },
        "id": "8Mojc0MMUmma",
        "outputId": "7b6a3ca8-e1bc-4f62-8356-16c690c91fa5"
      },
      "execution_count": 9,
      "outputs": [
        {
          "output_type": "stream",
          "name": "stdout",
          "text": [
            "Enter the limit: 10\n",
            "The sum of natural numbers up to 10 is: 55\n"
          ]
        }
      ]
    },
    {
      "cell_type": "markdown",
      "source": [
        "\n",
        "##Program 22\n",
        "Write a Python Program to Find LCM."
      ],
      "metadata": {
        "id": "iqF9HJu0V81E"
      }
    },
    {
      "cell_type": "code",
      "source": [
        "def compute_lcm(x, y):\n",
        " if x > y:\n",
        "  greater = x\n",
        " else:\n",
        "  greater = y\n",
        " while(True):\n",
        "  if((greater % x == 0) and (greater % y == 0)):\n",
        "    lcm = greater\n",
        "    break\n",
        "  greater += 1\n",
        " return lcm\n",
        "num1 = int(input('Enter the number: '))\n",
        "num2 = int(input('Enter the number: '))\n",
        "print(\"The L.C.M. is\", compute_lcm(num1, num2))"
      ],
      "metadata": {
        "colab": {
          "base_uri": "https://localhost:8080/"
        },
        "id": "4x2fI8aZVypS",
        "outputId": "bc3e41ba-7d37-4bc8-8dfa-67cd86a65bc2"
      },
      "execution_count": 10,
      "outputs": [
        {
          "output_type": "stream",
          "name": "stdout",
          "text": [
            "Enter the number: 54\n",
            "Enter the number: 24\n",
            "The L.C.M. is 216\n"
          ]
        }
      ]
    },
    {
      "cell_type": "markdown",
      "source": [
        "##Program 23\n",
        "Write a Python Program to Find HCF.\n"
      ],
      "metadata": {
        "id": "yriN0pwFWVWu"
      }
    },
    {
      "cell_type": "code",
      "source": [
        "def compute_hcf(x, y):\n",
        "\n",
        " if x > y:\n",
        "   smaller = y\n",
        " else:\n",
        "  smaller = x\n",
        " for i in range(1, smaller+1):\n",
        "  if((x % i == 0) and (y % i == 0)):\n",
        "    hcf = i\n",
        " return hcf\n",
        "num1 = int(input('Enter the number: '))\n",
        "num2 = int(input('Enter the number: '))\n",
        "print(\"The H.C.F. is\", compute_hcf(num1, num2))"
      ],
      "metadata": {
        "colab": {
          "base_uri": "https://localhost:8080/"
        },
        "id": "x8zQqbwrV7o7",
        "outputId": "fbaa178b-e5b2-4582-bcb7-b27b1094a467"
      },
      "execution_count": 11,
      "outputs": [
        {
          "output_type": "stream",
          "name": "stdout",
          "text": [
            "Enter the number: 54\n",
            "Enter the number: 24\n",
            "The H.C.F. is 6\n"
          ]
        }
      ]
    },
    {
      "cell_type": "markdown",
      "source": [
        "##Program 24\n",
        "Write a Python Program to Convert Decimal to Binary, Octal and Hexadecimal.\n",
        "\n"
      ],
      "metadata": {
        "id": "uJF0YekwWstB"
      }
    },
    {
      "cell_type": "code",
      "source": [
        "dec_num = int(input('Enter a decimal number: '))\n",
        "print(\"The decimal value of\", dec_num, \"is:\")\n",
        "print(bin(dec_num), \"in binary.\")\n",
        "print(oct(dec_num), \"in octal.\")\n",
        "print(hex(dec_num), \"in hexadecimal.\")"
      ],
      "metadata": {
        "colab": {
          "base_uri": "https://localhost:8080/"
        },
        "id": "NXWmOgnXWuk3",
        "outputId": "dbc4d58f-8414-4638-d3bf-3cf41803db26"
      },
      "execution_count": 12,
      "outputs": [
        {
          "output_type": "stream",
          "name": "stdout",
          "text": [
            "Enter a decimal number: 34\n",
            "The decimal value of 34 is:\n",
            "0b100010 in binary.\n",
            "0o42 in octal.\n",
            "0x22 in hexadecimal.\n"
          ]
        }
      ]
    },
    {
      "cell_type": "markdown",
      "source": [
        "##Program 25\n",
        "Write a Python Program To Find ASCII value of a character.\n"
      ],
      "metadata": {
        "id": "o6gGBQQUW5PS"
      }
    },
    {
      "cell_type": "code",
      "source": [
        "char = str(input(\"Enter the character: \"))\n",
        "print(\"The ASCII value of '\" + char + \"' is\", ord(char))"
      ],
      "metadata": {
        "colab": {
          "base_uri": "https://localhost:8080/"
        },
        "id": "pp3XEgWQW0eY",
        "outputId": "0cdc1c6c-d79b-436e-db64-58f003522794"
      },
      "execution_count": 13,
      "outputs": [
        {
          "output_type": "stream",
          "name": "stdout",
          "text": [
            "Enter the character: P\n",
            "The ASCII value of 'P' is 80\n"
          ]
        }
      ]
    },
    {
      "cell_type": "code",
      "source": [],
      "metadata": {
        "id": "fCmVQvVjW_Hp"
      },
      "execution_count": null,
      "outputs": []
    }
  ]
}